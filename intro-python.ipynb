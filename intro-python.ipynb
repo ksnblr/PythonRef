{
    "nbformat_minor": 1, 
    "cells": [
        {
            "source": "# Introduction to Python\n\nCopyright [Steve Phelps](http://sphelps.net) 2014\nSome more data added by Saravanan\n", 
            "cell_type": "markdown", 
            "metadata": {
                "slideshow": {
                    "slide_type": "subslide"
                }
            }
        }, 
        {
            "source": "# Python is interpreted\n\n- Python is an _interpreted_ language, in contrast to Java and C which are compiled languages.\n\n- This means we can type statements into the interpreter and they are executed immediately.\n", 
            "cell_type": "markdown", 
            "metadata": {
                "slideshow": {
                    "slide_type": "subslide"
                }
            }
        }, 
        {
            "source": "### last updated 07/19", 
            "cell_type": "markdown", 
            "metadata": {}
        }, 
        {
            "execution_count": 1, 
            "cell_type": "code", 
            "metadata": {
                "slideshow": {
                    "slide_type": "-"
                }
            }, 
            "outputs": [
                {
                    "execution_count": 1, 
                    "metadata": {}, 
                    "data": {
                        "text/plain": "10"
                    }, 
                    "output_type": "execute_result"
                }
            ], 
            "source": "5 + 5"
        }, 
        {
            "execution_count": 2, 
            "cell_type": "code", 
            "metadata": {
                "slideshow": {
                    "slide_type": "-"
                }
            }, 
            "outputs": [], 
            "source": "x = 5\ny = 'Hello There'\nz = 10.5"
        }, 
        {
            "execution_count": 3, 
            "cell_type": "code", 
            "metadata": {
                "slideshow": {
                    "slide_type": "-"
                }
            }, 
            "outputs": [
                {
                    "execution_count": 3, 
                    "metadata": {}, 
                    "data": {
                        "text/plain": "10"
                    }, 
                    "output_type": "execute_result"
                }
            ], 
            "source": "x + 5"
        }, 
        {
            "source": "# Assignments versus equations\n\n- In Python when we write `x = 5` this means something different from an equation $x=5$.\n\n- Unlike variables in mathematical models, variables in Python can refer to different things as more statements are interpreted.\n", 
            "cell_type": "markdown", 
            "metadata": {
                "slideshow": {
                    "slide_type": "subslide"
                }
            }
        }, 
        {
            "execution_count": 4, 
            "cell_type": "code", 
            "metadata": {}, 
            "outputs": [
                {
                    "ename": "SyntaxError", 
                    "evalue": "Missing parentheses in call to 'print' (<ipython-input-4-e459dc1c5f40>, line 2)", 
                    "traceback": [
                        "\u001b[0;36m  File \u001b[0;32m\"<ipython-input-4-e459dc1c5f40>\"\u001b[0;36m, line \u001b[0;32m2\u001b[0m\n\u001b[0;31m    print 'The value of x is ', x\u001b[0m\n\u001b[0m                             ^\u001b[0m\n\u001b[0;31mSyntaxError\u001b[0m\u001b[0;31m:\u001b[0m Missing parentheses in call to 'print'\n"
                    ], 
                    "output_type": "error"
                }
            ], 
            "source": "x = 1\nprint 'The value of x is ', x\n\nx = 2.5\nprint 'Now the value of x is ', x\n\nx = 'hello there'\nprint 'Now it is ', x"
        }, 
        {
            "source": "# Calling Functions\n\nWe can call functions in a conventional way using round brackets", 
            "cell_type": "markdown", 
            "metadata": {
                "slideshow": {
                    "slide_type": "subslide"
                }
            }
        }, 
        {
            "execution_count": 5, 
            "cell_type": "code", 
            "metadata": {}, 
            "outputs": [
                {
                    "ename": "SyntaxError", 
                    "evalue": "invalid syntax (<ipython-input-5-ec0648b31376>, line 1)", 
                    "traceback": [
                        "\u001b[0;36m  File \u001b[0;32m\"<ipython-input-5-ec0648b31376>\"\u001b[0;36m, line \u001b[0;32m1\u001b[0m\n\u001b[0;31m    print round(3.14)\u001b[0m\n\u001b[0m              ^\u001b[0m\n\u001b[0;31mSyntaxError\u001b[0m\u001b[0;31m:\u001b[0m invalid syntax\n"
                    ], 
                    "output_type": "error"
                }
            ], 
            "source": "print round(3.14)"
        }, 
        {
            "source": "# Types\n\n- Values in Python have an associated _type_.\n\n- If we combine types incorrectly we get an error.", 
            "cell_type": "markdown", 
            "metadata": {
                "slideshow": {
                    "slide_type": "subslide"
                }
            }
        }, 
        {
            "execution_count": 6, 
            "cell_type": "code", 
            "metadata": {
                "slideshow": {
                    "slide_type": "-"
                }
            }, 
            "outputs": [
                {
                    "ename": "SyntaxError", 
                    "evalue": "Missing parentheses in call to 'print' (<ipython-input-6-d7b495266d53>, line 1)", 
                    "traceback": [
                        "\u001b[0;36m  File \u001b[0;32m\"<ipython-input-6-d7b495266d53>\"\u001b[0;36m, line \u001b[0;32m1\u001b[0m\n\u001b[0;31m    print y\u001b[0m\n\u001b[0m          ^\u001b[0m\n\u001b[0;31mSyntaxError\u001b[0m\u001b[0;31m:\u001b[0m Missing parentheses in call to 'print'\n"
                    ], 
                    "output_type": "error"
                }
            ], 
            "source": "print y"
        }, 
        {
            "execution_count": 7, 
            "cell_type": "code", 
            "metadata": {
                "slideshow": {
                    "slide_type": "-"
                }
            }, 
            "outputs": [
                {
                    "ename": "TypeError", 
                    "evalue": "Can't convert 'int' object to str implicitly", 
                    "traceback": [
                        "\u001b[0;31m---------------------------------------------------------------------------\u001b[0m", 
                        "\u001b[0;31mTypeError\u001b[0m                                 Traceback (most recent call last)", 
                        "\u001b[0;32m<ipython-input-7-c3d4037f4656>\u001b[0m in \u001b[0;36m<module>\u001b[0;34m()\u001b[0m\n\u001b[0;32m----> 1\u001b[0;31m \u001b[0my\u001b[0m \u001b[0;34m+\u001b[0m \u001b[0;36m5\u001b[0m\u001b[0;34m\u001b[0m\u001b[0m\n\u001b[0m", 
                        "\u001b[0;31mTypeError\u001b[0m: Can't convert 'int' object to str implicitly"
                    ], 
                    "output_type": "error"
                }
            ], 
            "source": "y + 5"
        }, 
        {
            "source": "# The type function\n\n- We can query the type of a value using the `type` function.", 
            "cell_type": "markdown", 
            "metadata": {
                "slideshow": {
                    "slide_type": "subslide"
                }
            }
        }, 
        {
            "execution_count": null, 
            "cell_type": "code", 
            "metadata": {}, 
            "outputs": [], 
            "source": "type(1)"
        }, 
        {
            "execution_count": null, 
            "cell_type": "code", 
            "metadata": {}, 
            "outputs": [], 
            "source": "type('hello')"
        }, 
        {
            "execution_count": null, 
            "cell_type": "code", 
            "metadata": {}, 
            "outputs": [], 
            "source": "type(2.5)"
        }, 
        {
            "execution_count": null, 
            "cell_type": "code", 
            "metadata": {}, 
            "outputs": [], 
            "source": "type(True)"
        }, 
        {
            "source": "# Null values\n\n- Sometimes we represent \"no data\" or \"not applicable\".  \n\n- In Python we use the special value `None`.\n\n- This corresponds to `Null` in Java or SQL.\n", 
            "cell_type": "markdown", 
            "metadata": {
                "slideshow": {
                    "slide_type": "subslide"
                }
            }
        }, 
        {
            "execution_count": null, 
            "cell_type": "code", 
            "metadata": {}, 
            "outputs": [], 
            "source": "result = None"
        }, 
        {
            "source": "- When we fetch the value `None` in the interactive interpreter, no result is printed out.\n", 
            "cell_type": "markdown", 
            "metadata": {}
        }, 
        {
            "execution_count": null, 
            "cell_type": "code", 
            "metadata": {}, 
            "outputs": [], 
            "source": "result"
        }, 
        {
            "source": "- We can check whether there is a result or not using the `is` operator:", 
            "cell_type": "markdown", 
            "metadata": {
                "slideshow": {
                    "slide_type": "subslide"
                }
            }
        }, 
        {
            "execution_count": null, 
            "cell_type": "code", 
            "metadata": {}, 
            "outputs": [], 
            "source": "result is None"
        }, 
        {
            "execution_count": null, 
            "cell_type": "code", 
            "metadata": {}, 
            "outputs": [], 
            "source": "x = 5\nx is None"
        }, 
        {
            "source": "# Converting values between types\n\n- We can convert values between different types.\n\n- To convert an integer to a floating-point number use the `float()` function.\n- To convert a floating-point to an integer use the `int()` function.", 
            "cell_type": "markdown", 
            "metadata": {
                "slideshow": {
                    "slide_type": "subslide"
                }
            }
        }, 
        {
            "execution_count": null, 
            "cell_type": "code", 
            "metadata": {}, 
            "outputs": [], 
            "source": "x = 1\nprint type(x)\nprint x\n"
        }, 
        {
            "execution_count": null, 
            "cell_type": "code", 
            "metadata": {}, 
            "outputs": [], 
            "source": "y = float(x)\nprint type(y)\nprint y"
        }, 
        {
            "execution_count": null, 
            "cell_type": "code", 
            "metadata": {}, 
            "outputs": [], 
            "source": "print int(y)"
        }, 
        {
            "source": "# Converting to and from ASCII values\n\n- The functions `chr()` and `ord()` can be used to convert characters from and to [ASCII](https://en.wikipedia.org/wiki/ASCII).\n", 
            "cell_type": "markdown", 
            "metadata": {
                "slideshow": {
                    "slide_type": "subslide"
                }
            }
        }, 
        {
            "execution_count": null, 
            "cell_type": "code", 
            "metadata": {}, 
            "outputs": [], 
            "source": "print ord('a')"
        }, 
        {
            "execution_count": null, 
            "cell_type": "code", 
            "metadata": {}, 
            "outputs": [], 
            "source": "print chr(97)"
        }, 
        {
            "source": "# Variables are not typed\n\n- _Variables_ themselves, on the other hand, do not have a fixed type.\n- It is only the values that they refer to that have a type.\n- This means that the type referred to by a variable can change as more statements are interpreted.\n", 
            "cell_type": "markdown", 
            "metadata": {
                "slideshow": {
                    "slide_type": "subslide"
                }
            }
        }, 
        {
            "execution_count": null, 
            "cell_type": "code", 
            "metadata": {}, 
            "outputs": [], 
            "source": "y = 'hello'\nprint 'The type of the value referred to by y is ', type(y)\ny = 5.0\nprint 'And now the type of the value is ', type(y)"
        }, 
        {
            "source": "# Polymorphism\n\n- The meaning of an operator depends on the types we are applying it to.\n\n", 
            "cell_type": "markdown", 
            "metadata": {
                "slideshow": {
                    "slide_type": "subslide"
                }
            }
        }, 
        {
            "execution_count": null, 
            "cell_type": "code", 
            "metadata": {}, 
            "outputs": [], 
            "source": "1 / 5"
        }, 
        {
            "execution_count": null, 
            "cell_type": "code", 
            "metadata": {}, 
            "outputs": [], 
            "source": "1.0 / 5.0"
        }, 
        {
            "execution_count": null, 
            "cell_type": "code", 
            "metadata": {}, 
            "outputs": [], 
            "source": "1 + 1"
        }, 
        {
            "execution_count": null, 
            "cell_type": "code", 
            "metadata": {}, 
            "outputs": [], 
            "source": "'a' + 'b'"
        }, 
        {
            "execution_count": null, 
            "cell_type": "code", 
            "metadata": {}, 
            "outputs": [], 
            "source": "'1' + '1'"
        }, 
        {
            "source": "# Conditional Statements and Indentation\n", 
            "cell_type": "markdown", 
            "metadata": {
                "slideshow": {
                    "slide_type": "subslide"
                }
            }
        }, 
        {
            "source": "- The syntax for control structures in Python use _colons_ and _indentation_.\n\n- Beware that white-space affects the semantics of Python code.\n\n", 
            "cell_type": "markdown", 
            "metadata": {}
        }, 
        {
            "execution_count": null, 
            "cell_type": "code", 
            "metadata": {}, 
            "outputs": [], 
            "source": "x = 5\nif x > 0:\n    print 'x is strictly positive'\n    print x\n    \nprint 'finished.'"
        }, 
        {
            "execution_count": null, 
            "cell_type": "code", 
            "metadata": {}, 
            "outputs": [], 
            "source": "x = 0\nif x > 0:\n    print 'x is strictly positive'\nprint x\n    \nprint 'finished'"
        }, 
        {
            "source": "# Lists\n\n", 
            "cell_type": "markdown", 
            "metadata": {
                "slideshow": {
                    "slide_type": "subslide"
                }
            }
        }, 
        {
            "source": "We can use _lists_ to hold an ordered sequence of values.", 
            "cell_type": "markdown", 
            "metadata": {}
        }, 
        {
            "execution_count": null, 
            "cell_type": "code", 
            "metadata": {}, 
            "outputs": [], 
            "source": "l = ['first', 'second', 'third']\nprint l"
        }, 
        {
            "source": "Lists can contain different types of variable, even in the same list.", 
            "cell_type": "markdown", 
            "metadata": {}
        }, 
        {
            "execution_count": null, 
            "cell_type": "code", 
            "metadata": {}, 
            "outputs": [], 
            "source": "another_list = ['first', 'second', 'third', 1, 2, 3]\nprint another_list"
        }, 
        {
            "source": "# Mutable Datastructures", 
            "cell_type": "markdown", 
            "metadata": {
                "slideshow": {
                    "slide_type": "subslide"
                }
            }
        }, 
        {
            "source": "Lists are _mutable_; their contents can change as more statements are interpreted.", 
            "cell_type": "markdown", 
            "metadata": {}
        }, 
        {
            "execution_count": null, 
            "cell_type": "code", 
            "metadata": {}, 
            "outputs": [], 
            "source": "l.append('fourth')\nprint l"
        }, 
        {
            "source": "# References\n\n- Whenever we bind a variable to a value in Python we create a *reference*.\n\n- A reference is distinct from the value that it refers to.\n\n- Variables are names for references.\n", 
            "cell_type": "markdown", 
            "metadata": {
                "slideshow": {
                    "slide_type": "subslide"
                }
            }
        }, 
        {
            "execution_count": null, 
            "cell_type": "code", 
            "metadata": {}, 
            "outputs": [], 
            "source": "X = [1, 2, 3]\nY = X"
        }, 
        {
            "source": "- The above code creates two different references (named `X` and `Y`) to the *same* value `[1, 2, 3]`\n\n- Because lists are mutable, changing them can have side-effects on other variables.\n\n- If we append something to `X` what will happen to `Y`?", 
            "cell_type": "markdown", 
            "metadata": {}
        }, 
        {
            "execution_count": null, 
            "cell_type": "code", 
            "metadata": {
                "slideshow": {
                    "slide_type": "fragment"
                }
            }, 
            "outputs": [], 
            "source": "X.append(4)\nX"
        }, 
        {
            "execution_count": null, 
            "cell_type": "code", 
            "metadata": {
                "slideshow": {
                    "slide_type": "fragment"
                }
            }, 
            "outputs": [], 
            "source": "Y"
        }, 
        {
            "source": "# State and identity\n\n- The state referred to by a variable is *different* from its identity.\n\n- To compare *state* use the `==` operator.\n\n- To compare *identity* use the `is` operator.\n\n- When we compare identity we check equality of references.\n\n- When we compare state we check equality of values.\n", 
            "cell_type": "markdown", 
            "metadata": {
                "slideshow": {
                    "slide_type": "subslide"
                }
            }
        }, 
        {
            "execution_count": null, 
            "cell_type": "code", 
            "metadata": {}, 
            "outputs": [], 
            "source": "X = [1, 2]\nY = [1]\nY.append(2)"
        }, 
        {
            "execution_count": null, 
            "cell_type": "code", 
            "metadata": {}, 
            "outputs": [], 
            "source": "X == Y"
        }, 
        {
            "execution_count": null, 
            "cell_type": "code", 
            "metadata": {}, 
            "outputs": [], 
            "source": "X is Y"
        }, 
        {
            "execution_count": null, 
            "cell_type": "code", 
            "metadata": {}, 
            "outputs": [], 
            "source": "Y.append(3)\nX\n"
        }, 
        {
            "execution_count": null, 
            "cell_type": "code", 
            "metadata": {}, 
            "outputs": [], 
            "source": "X = Y"
        }, 
        {
            "execution_count": null, 
            "cell_type": "code", 
            "metadata": {}, 
            "outputs": [], 
            "source": "X is Y"
        }, 
        {
            "source": "# Iteration\n\n- We can iterate over each element of a list in turn using a `for` loop:\n", 
            "cell_type": "markdown", 
            "metadata": {
                "slideshow": {
                    "slide_type": "subslide"
                }
            }
        }, 
        {
            "execution_count": null, 
            "cell_type": "code", 
            "metadata": {}, 
            "outputs": [], 
            "source": "for i in l:\n    print i"
        }, 
        {
            "source": "- To perform a statement a certain number of times, we can iterate over a list of the required size.", 
            "cell_type": "markdown", 
            "metadata": {}
        }, 
        {
            "execution_count": null, 
            "cell_type": "code", 
            "metadata": {}, 
            "outputs": [], 
            "source": "for i in [0, 1, 2, 3]:\n    print \"Hello!\""
        }, 
        {
            "source": "# For loops with the range function\n\n- To save from having to manually write the numbers out, we can use the function `range()` to count for us.  As in Java and C, we count starting at 0.\n", 
            "cell_type": "markdown", 
            "metadata": {
                "slideshow": {
                    "slide_type": "subslide"
                }
            }
        }, 
        {
            "execution_count": null, 
            "cell_type": "code", 
            "metadata": {}, 
            "outputs": [], 
            "source": "range(4)"
        }, 
        {
            "execution_count": null, 
            "cell_type": "code", 
            "metadata": {}, 
            "outputs": [], 
            "source": "for i in range(4):\n    print \"Hello!\""
        }, 
        {
            "source": "# List Indexing\n\n- Lists can be indexed using square brackets to retrieve the element stored in a particular position.\n\n\n\n", 
            "cell_type": "markdown", 
            "metadata": {
                "slideshow": {
                    "slide_type": "subslide"
                }
            }
        }, 
        {
            "execution_count": null, 
            "cell_type": "code", 
            "metadata": {}, 
            "outputs": [], 
            "source": "print l[0]"
        }, 
        {
            "execution_count": null, 
            "cell_type": "code", 
            "metadata": {}, 
            "outputs": [], 
            "source": "print l[1]"
        }, 
        {
            "source": "# List Slicing\n\n- We can also a specify a _range_ of positions.  \n\n- This is called _slicing_.\n\n- The example below indexes from position 0 (inclusive) to 2 (exclusive).\n\n", 
            "cell_type": "markdown", 
            "metadata": {
                "slideshow": {
                    "slide_type": "subslide"
                }
            }
        }, 
        {
            "execution_count": null, 
            "cell_type": "code", 
            "metadata": {}, 
            "outputs": [], 
            "source": "print l[0:2]"
        }, 
        {
            "source": "- If we leave out the starting index it implies the beginning of the list:\n\n", 
            "cell_type": "markdown", 
            "metadata": {}
        }, 
        {
            "execution_count": null, 
            "cell_type": "code", 
            "metadata": {}, 
            "outputs": [], 
            "source": "print l[:2]"
        }, 
        {
            "source": "- If we leave out the final index it implies the end of the list:", 
            "cell_type": "markdown", 
            "metadata": {}
        }, 
        {
            "execution_count": null, 
            "cell_type": "code", 
            "metadata": {}, 
            "outputs": [], 
            "source": "print l[2:]"
        }, 
        {
            "source": "# Negative Indexing\n\n- Negative indices count from the end of the list:\n\n", 
            "cell_type": "markdown", 
            "metadata": {
                "slideshow": {
                    "slide_type": "subslide"
                }
            }
        }, 
        {
            "execution_count": null, 
            "cell_type": "code", 
            "metadata": {}, 
            "outputs": [], 
            "source": "print l[-1]"
        }, 
        {
            "execution_count": null, 
            "cell_type": "code", 
            "metadata": {}, 
            "outputs": [], 
            "source": "print l[:-1]"
        }, 
        {
            "source": "# Collections\n\n- Lists are an example of a *collection*.\n\n- A collection is a type of value that can contain other values.\n\n- There are other collection types in Python:\n\n    - `tuple`\n    - `set`\n    - `dict`", 
            "cell_type": "markdown", 
            "metadata": {
                "slideshow": {
                    "slide_type": "subslide"
                }
            }
        }, 
        {
            "source": "# Collections using Int", 
            "cell_type": "markdown", 
            "metadata": {}
        }, 
        {
            "execution_count": null, 
            "cell_type": "code", 
            "metadata": {}, 
            "outputs": [], 
            "source": "import collections\nfrom collections import defaultdict\nfood_list = 'spam spam spam spam spam spam eggs spam'.split()\nfood_count = defaultdict(int)\n\nfor food in food_list:\n    food_count[food] +=1\n    \nprint (food_count)\n"
        }, 
        {
            "source": "# Collections using Lists\n", 
            "cell_type": "markdown", 
            "metadata": {}
        }, 
        {
            "execution_count": null, 
            "cell_type": "code", 
            "metadata": {}, 
            "outputs": [], 
            "source": "import collections\nfrom collections import defaultdict\ncity_list = [('TX','Austin'), ('TX','Houston'), ('NY','Albany'), ('NY', 'Syracuse'), ('NY', 'Buffalo'), \n             ('NY', 'Rochester'), ('TX', 'Dallas'), ('CA','Sacramento'), ('CA', 'Palo Alto'), \n             ('GA', 'Atlanta')]\ncities_by_state = defaultdict(list)\n\nfor state,city in city_list:\n    cities_by_state[state].append(city)\n    \nfor keys,values in cities_by_state.items():\n    c_list = \",\".join(values)\n    print (\"{} State has {} cities\".format(keys,c_list))\n"
        }, 
        {
            "execution_count": null, 
            "cell_type": "code", 
            "metadata": {}, 
            "outputs": [], 
            "source": "tuple1 = (50, 'hello')\ntuple1"
        }, 
        {
            "execution_count": null, 
            "cell_type": "code", 
            "metadata": {}, 
            "outputs": [], 
            "source": "tuple1[0]"
        }, 
        {
            "execution_count": null, 
            "cell_type": "code", 
            "metadata": {}, 
            "outputs": [], 
            "source": "type(tuple1)"
        }, 
        {
            "source": "# Tuples are immutable\n\n- Unlike lists, tuples are *immutable*.  Once we have created a tuple we cannot add values to it.\n\n", 
            "cell_type": "markdown", 
            "metadata": {
                "slideshow": {
                    "slide_type": "subslide"
                }
            }
        }, 
        {
            "execution_count": null, 
            "cell_type": "code", 
            "metadata": {}, 
            "outputs": [], 
            "source": "tuple1.append(2)"
        }, 
        {
            "source": "# Sets\n\n- Lists can contain duplicate values.\n\n- A set, in contrast, contains no duplicates.\n\n- Sets can be created from lists using the `set()` function.\n\n\n", 
            "cell_type": "markdown", 
            "metadata": {
                "slideshow": {
                    "slide_type": "subslide"
                }
            }
        }, 
        {
            "execution_count": null, 
            "cell_type": "code", 
            "metadata": {}, 
            "outputs": [], 
            "source": "X = set([1, 2, 3, 3, 4])\nX"
        }, 
        {
            "execution_count": null, 
            "cell_type": "code", 
            "metadata": {}, 
            "outputs": [], 
            "source": "type(X)"
        }, 
        {
            "source": "- Alternatively we can write a set literal using the `{` and `}` brackets.", 
            "cell_type": "markdown", 
            "metadata": {}
        }, 
        {
            "execution_count": null, 
            "cell_type": "code", 
            "metadata": {}, 
            "outputs": [], 
            "source": "X = {1, 2, 3, 4}\ntype(X)"
        }, 
        {
            "source": "# Sets are mutable\n\n- Sets are mutable like lists:", 
            "cell_type": "markdown", 
            "metadata": {
                "slideshow": {
                    "slide_type": "subslide"
                }
            }
        }, 
        {
            "execution_count": null, 
            "cell_type": "code", 
            "metadata": {}, 
            "outputs": [], 
            "source": "X.add(5)\nX"
        }, 
        {
            "source": "- Duplicates are automatically removed", 
            "cell_type": "markdown", 
            "metadata": {}
        }, 
        {
            "execution_count": null, 
            "cell_type": "code", 
            "metadata": {}, 
            "outputs": [], 
            "source": "X.add(5)\nX\n"
        }, 
        {
            "source": "# Sets are unordered\n\n- Sets do not have an ordering.\n\n- Therefore we cannot index or slice them:\n\n", 
            "cell_type": "markdown", 
            "metadata": {
                "slideshow": {
                    "slide_type": "subslide"
                }
            }
        }, 
        {
            "execution_count": null, 
            "cell_type": "code", 
            "metadata": {}, 
            "outputs": [], 
            "source": "X[0]"
        }, 
        {
            "source": "# Operations on sets\n\n- Union: $X \\cup Y$\n", 
            "cell_type": "markdown", 
            "metadata": {
                "slideshow": {
                    "slide_type": "subslide"
                }
            }
        }, 
        {
            "execution_count": null, 
            "cell_type": "code", 
            "metadata": {}, 
            "outputs": [], 
            "source": "X = {1, 2, 3}\nY = {4, 5, 6}\nX.union(Y)"
        }, 
        {
            "source": "- Intersection: $X \\cap Y$:", 
            "cell_type": "markdown", 
            "metadata": {}
        }, 
        {
            "execution_count": null, 
            "cell_type": "code", 
            "metadata": {}, 
            "outputs": [], 
            "source": "X = {1, 2, 3, 4}\nY = {3, 4, 5}\nX.intersection(Y)"
        }, 
        {
            "source": "- Difference $X - Y$:\n", 
            "cell_type": "markdown", 
            "metadata": {}
        }, 
        {
            "execution_count": null, 
            "cell_type": "code", 
            "metadata": {}, 
            "outputs": [], 
            "source": "X - Y"
        }, 
        {
            "source": "# Arrays\n\n- Python also has fixed-length arrays which contain a single type of value\n\n- i.e. we cannot have different types of value within the same array.   \n\n- Arrays are provided by a separate _module_ called numpy.  Modules correspond to packages in e.g. Java.\n\n- We can import the module and then give it a shorter _alias_.\n", 
            "cell_type": "markdown", 
            "metadata": {
                "slideshow": {
                    "slide_type": "subslide"
                }
            }
        }, 
        {
            "execution_count": null, 
            "cell_type": "code", 
            "metadata": {}, 
            "outputs": [], 
            "source": "import numpy as np"
        }, 
        {
            "source": "- We can now use the functions defined in this package by prefixing them with `np`.  \n\n- The function `array()` creates an array given a list.", 
            "cell_type": "markdown", 
            "metadata": {}
        }, 
        {
            "execution_count": null, 
            "cell_type": "code", 
            "metadata": {}, 
            "outputs": [], 
            "source": "x = np.array([0, 1, 2, 3, 4])\nprint x\nprint type(x)"
        }, 
        {
            "source": "# Functions over arrays\n\n- When we use arithmetic operators on arrays, we create a new array with the result of applying the operator to each element.", 
            "cell_type": "markdown", 
            "metadata": {
                "slideshow": {
                    "slide_type": "subslide"
                }
            }
        }, 
        {
            "execution_count": null, 
            "cell_type": "code", 
            "metadata": {}, 
            "outputs": [], 
            "source": "y = x * 2\nprint y"
        }, 
        {
            "source": "- The same goes for functions:", 
            "cell_type": "markdown", 
            "metadata": {}
        }, 
        {
            "execution_count": null, 
            "cell_type": "code", 
            "metadata": {}, 
            "outputs": [], 
            "source": "x = np.array([-1, 2, 3, -4])\ny = abs(x)\nprint y"
        }, 
        {
            "source": "# Populating Arrays\n\n- To populate an array with a range of values we use the `np.arange()` function:\n", 
            "cell_type": "markdown", 
            "metadata": {
                "slideshow": {
                    "slide_type": "subslide"
                }
            }
        }, 
        {
            "execution_count": null, 
            "cell_type": "code", 
            "metadata": {}, 
            "outputs": [], 
            "source": "x = np.arange(0, 10)\nprint x"
        }, 
        {
            "source": "- We can also use floating point increments.\n", 
            "cell_type": "markdown", 
            "metadata": {}
        }, 
        {
            "execution_count": null, 
            "cell_type": "code", 
            "metadata": {}, 
            "outputs": [], 
            "source": "x = np.arange(0, 1, 0.1)\nprint x"
        }, 
        {
            "source": "# Basic Plotting\n\n- We will use a module called `matplotlib` to plot some simple graphs.\n\n- This module provides functions which are very similar to MATLAB plotting commands.\n", 
            "cell_type": "markdown", 
            "metadata": {
                "slideshow": {
                    "slide_type": "subslide"
                }
            }
        }, 
        {
            "execution_count": null, 
            "cell_type": "code", 
            "metadata": {}, 
            "outputs": [], 
            "source": "import matplotlib.pyplot as plt\n%matplotlib inline\n\ny = x*2 + 5\nplt.plot(x, y)\n"
        }, 
        {
            "source": "# Plotting a sine curve", 
            "cell_type": "markdown", 
            "metadata": {
                "slideshow": {
                    "slide_type": "subslide"
                }
            }
        }, 
        {
            "execution_count": null, 
            "cell_type": "code", 
            "metadata": {}, 
            "outputs": [], 
            "source": "from numpy import pi, sin\n\nx = np.arange(0, 2*pi, 0.01)\ny = sin(x)\nplt.plot(x, y)"
        }, 
        {
            "source": "# Plotting a histogram\n\n- We can use the `hist()` function in `matplotlib` to plot a histogram", 
            "cell_type": "markdown", 
            "metadata": {
                "slideshow": {
                    "slide_type": "subslide"
                }
            }
        }, 
        {
            "execution_count": null, 
            "cell_type": "code", 
            "metadata": {}, 
            "outputs": [], 
            "source": "# Generate some random data\ndata = np.random.randn(1000)\n\nax = plt.hist(data)"
        }, 
        {
            "source": "# Computing histograms as matrices\n\n- The function `histogram()` in the `numpy` module will count frequencies into bins and return the result as a 2-dimensional array.", 
            "cell_type": "markdown", 
            "metadata": {
                "slideshow": {
                    "slide_type": "subslide"
                }
            }
        }, 
        {
            "execution_count": null, 
            "cell_type": "code", 
            "metadata": {}, 
            "outputs": [], 
            "source": "np.histogram(data)"
        }, 
        {
            "source": "# Defining new functions\n\n", 
            "cell_type": "markdown", 
            "metadata": {
                "slideshow": {
                    "slide_type": "subslide"
                }
            }
        }, 
        {
            "execution_count": null, 
            "cell_type": "code", 
            "metadata": {}, 
            "outputs": [], 
            "source": "def squared(x):\n    return x ** 2\n\nprint squared(5)"
        }, 
        {
            "source": "# Local Variables\n\n- Variables created inside functions are _local_ to that function.\n\n- They are not accessable to code outside of that function.", 
            "cell_type": "markdown", 
            "metadata": {
                "slideshow": {
                    "slide_type": "subslide"
                }
            }
        }, 
        {
            "execution_count": null, 
            "cell_type": "code", 
            "metadata": {}, 
            "outputs": [], 
            "source": "def squared(x):\n    result = x ** 2\n    return result\n\nprint squared(5)"
        }, 
        {
            "execution_count": null, 
            "cell_type": "code", 
            "metadata": {}, 
            "outputs": [], 
            "source": "print result"
        }, 
        {
            "source": "# Functional Programming\n\n- Functions are first-class citizens in Python.\n\n- They can be passed around just like any other value.\n\n\n\n", 
            "cell_type": "markdown", 
            "metadata": {
                "slideshow": {
                    "slide_type": "subslide"
                }
            }
        }, 
        {
            "execution_count": null, 
            "cell_type": "code", 
            "metadata": {}, 
            "outputs": [], 
            "source": "print(squared)"
        }, 
        {
            "execution_count": null, 
            "cell_type": "code", 
            "metadata": {}, 
            "outputs": [], 
            "source": "y = squared\nprint y"
        }, 
        {
            "execution_count": null, 
            "cell_type": "code", 
            "metadata": {}, 
            "outputs": [], 
            "source": "print y(5)"
        }, 
        {
            "source": "# Mapping the elements of a collection\n\n- We can apply a function to each element of a collection using the built-in function `map()`.\n\n- This will work with any collection: list, set, tuple or string.\n\n- This will take as an argument _another function_, and the list we want to apply it to.\n\n- It will return the results of applying the function, as a list.", 
            "cell_type": "markdown", 
            "metadata": {
                "slideshow": {
                    "slide_type": "subslide"
                }
            }
        }, 
        {
            "execution_count": null, 
            "cell_type": "code", 
            "metadata": {}, 
            "outputs": [], 
            "source": "map(squared, [1, 2, 3, 4])"
        }, 
        {
            "source": "# List Comprehensions", 
            "cell_type": "markdown", 
            "metadata": {
                "slideshow": {
                    "slide_type": "subslide"
                }
            }
        }, 
        {
            "source": "- Because this is such a common operation, Python has a special syntax to do the same thing, called a _list comprehension_.\n", 
            "cell_type": "markdown", 
            "metadata": {}
        }, 
        {
            "execution_count": null, 
            "cell_type": "code", 
            "metadata": {}, 
            "outputs": [], 
            "source": "[squared(i) for i in [1, 2, 3, 4]]"
        }, 
        {
            "source": "- If we want a set instead of a list we can use a set comprehension", 
            "cell_type": "markdown", 
            "metadata": {}
        }, 
        {
            "execution_count": null, 
            "cell_type": "code", 
            "metadata": {}, 
            "outputs": [], 
            "source": "{squared(i) for i in [1, 2, 3, 4]}"
        }, 
        {
            "source": "# Cartesian product using list comprehensions\n\n", 
            "cell_type": "markdown", 
            "metadata": {
                "slideshow": {
                    "slide_type": "subslide"
                }
            }
        }, 
        {
            "source": "<img src=\"files/220px-Cartesian_Product_qtl1.svg.png\">\n\nThe [Cartesian product](https://en.wikipedia.org/wiki/Cartesian_product) of two collections $X = A \\times B$ can be expressed by using multiple `for` statements in a comprehension.\n", 
            "cell_type": "markdown", 
            "metadata": {}
        }, 
        {
            "execution_count": null, 
            "cell_type": "code", 
            "metadata": {
                "slideshow": {
                    "slide_type": "subslide"
                }
            }, 
            "outputs": [], 
            "source": "A = {'x', 'y', 'z'}\nB = {1, 2, 3}\n{(a,b) for a in A for b in B}"
        }, 
        {
            "source": "# Cartesian products with other collections\n\n- The syntax for Cartesian products can be used with any collection type.\n", 
            "cell_type": "markdown", 
            "metadata": {
                "slideshow": {
                    "slide_type": "subslide"
                }
            }
        }, 
        {
            "execution_count": null, 
            "cell_type": "code", 
            "metadata": {
                "slideshow": {
                    "slide_type": "-"
                }
            }, 
            "outputs": [], 
            "source": "first_names = ('Steve', 'John', 'Peter')\nsurnames = ('Smith', 'Doe')\n\n[(first_name, surname) for first_name in first_names for surname in surnames]"
        }, 
        {
            "source": "# Anonymous Function Literals\n\n- We can also write _anonymous_ functions.\n- These are function literals, and do not necessarily have a name.\n- They are called _lambda expressions_ (after the $\\lambda-$calculus).", 
            "cell_type": "markdown", 
            "metadata": {
                "slideshow": {
                    "slide_type": "subslide"
                }
            }
        }, 
        {
            "execution_count": null, 
            "cell_type": "code", 
            "metadata": {}, 
            "outputs": [], 
            "source": "map(lambda x: x ** 2, [1, 2, 3, 4])"
        }, 
        {
            "source": "# Filtering data\n\n- We can filter a list by applying a _predicate_ to each element of the list.\n\n- A predicate is a function which takes a single argument, and returns a boolean value.\n\n- `filter(p, X)` is equivalent to $\\{ x : p(x) \\; \\forall x \\in X \\}$ in set-builder notation.\n", 
            "cell_type": "markdown", 
            "metadata": {
                "slideshow": {
                    "slide_type": "subslide"
                }
            }
        }, 
        {
            "execution_count": null, 
            "cell_type": "code", 
            "metadata": {}, 
            "outputs": [], 
            "source": "filter(lambda x: x > 0, [-5, 2, 3, -10, 0, 1])"
        }, 
        {
            "source": "We can use both `filter()` and `map()` on other collections such as strings or sets.", 
            "cell_type": "markdown", 
            "metadata": {
                "slideshow": {
                    "slide_type": "subslide"
                }
            }
        }, 
        {
            "execution_count": null, 
            "cell_type": "code", 
            "metadata": {}, 
            "outputs": [], 
            "source": "filter(lambda x: x != ' ', 'hello world')"
        }, 
        {
            "execution_count": null, 
            "cell_type": "code", 
            "metadata": {}, 
            "outputs": [], 
            "source": "map(ord, 'hello world')"
        }, 
        {
            "execution_count": null, 
            "cell_type": "code", 
            "metadata": {}, 
            "outputs": [], 
            "source": "filter(lambda x: x > 0, {-5, 2, 3, -10, 0, 1})"
        }, 
        {
            "source": "# Filtering using a list comprehension\n\n- Again, because this is such a common operation, we can use simpler syntax to say the same thing.\n\n- We can express a filter using a list-comprehension by using the keyword `if`:", 
            "cell_type": "markdown", 
            "metadata": {
                "slideshow": {
                    "slide_type": "subslide"
                }
            }
        }, 
        {
            "execution_count": null, 
            "cell_type": "code", 
            "metadata": {}, 
            "outputs": [], 
            "source": "data = [-5, 2, 3, -10, 0, 1]\n[x for x in data if x > 0]"
        }, 
        {
            "source": "- We can also filter and then map in the same expression:", 
            "cell_type": "markdown", 
            "metadata": {}
        }, 
        {
            "execution_count": null, 
            "cell_type": "code", 
            "metadata": {}, 
            "outputs": [], 
            "source": "from numpy import sqrt\n[sqrt(x) for x in data if x > 0]"
        }, 
        {
            "source": "# The reduce function\n\n- The `reduce()` function recursively applies another function to pairs of values over the entire list, resulting in a _single_ return value.", 
            "cell_type": "markdown", 
            "metadata": {
                "slideshow": {
                    "slide_type": "subslide"
                }
            }
        }, 
        {
            "execution_count": 8, 
            "cell_type": "code", 
            "metadata": {}, 
            "outputs": [
                {
                    "ename": "NameError", 
                    "evalue": "name 'reduce' is not defined", 
                    "traceback": [
                        "\u001b[0;31m---------------------------------------------------------------------------\u001b[0m", 
                        "\u001b[0;31mNameError\u001b[0m                                 Traceback (most recent call last)", 
                        "\u001b[0;32m<ipython-input-8-f811c009dd89>\u001b[0m in \u001b[0;36m<module>\u001b[0;34m()\u001b[0m\n\u001b[0;32m----> 1\u001b[0;31m \u001b[0mreduce\u001b[0m\u001b[0;34m(\u001b[0m\u001b[0;32mlambda\u001b[0m \u001b[0mx\u001b[0m\u001b[0;34m,\u001b[0m \u001b[0my\u001b[0m\u001b[0;34m:\u001b[0m \u001b[0mx\u001b[0m \u001b[0;34m+\u001b[0m \u001b[0my\u001b[0m\u001b[0;34m,\u001b[0m \u001b[0;34m[\u001b[0m\u001b[0;36m0\u001b[0m\u001b[0;34m,\u001b[0m \u001b[0;36m1\u001b[0m\u001b[0;34m,\u001b[0m \u001b[0;36m2\u001b[0m\u001b[0;34m,\u001b[0m \u001b[0;36m3\u001b[0m\u001b[0;34m,\u001b[0m \u001b[0;36m4\u001b[0m\u001b[0;34m,\u001b[0m \u001b[0;36m5\u001b[0m\u001b[0;34m]\u001b[0m\u001b[0;34m)\u001b[0m\u001b[0;34m\u001b[0m\u001b[0m\n\u001b[0m", 
                        "\u001b[0;31mNameError\u001b[0m: name 'reduce' is not defined"
                    ], 
                    "output_type": "error"
                }
            ], 
            "source": "\nreduce(lambda x, y: x + y, [0, 1, 2, 3, 4, 5])"
        }, 
        {
            "source": "# Big Data\n\n- The `map()` and `reduce()` functions form the basis of the map-reduce programming model.\n\n- [Map-reduce](https://en.wikipedia.org/wiki/MapReduce) is the basis of modern highly-distributed large-scale computing frameworks.\n\n- It is used in BigTable, Hadoop and Apache Spark. \n\n- See [these examples in Python](https://spark.apache.org/examples.html) for Apache Spark.", 
            "cell_type": "markdown", 
            "metadata": {
                "slideshow": {
                    "slide_type": "subslide"
                }
            }
        }, 
        {
            "source": "# Reading Text Files\n\n- To read an entire text file as a list of lines use the `readlines()` method of a file object.\n", 
            "cell_type": "markdown", 
            "metadata": {
                "slideshow": {
                    "slide_type": "subslide"
                }
            }
        }, 
        {
            "execution_count": 9, 
            "cell_type": "code", 
            "metadata": {}, 
            "outputs": [], 
            "source": "f = open('/etc/group')\nresult = f.readlines()\nf.close()\n"
        }, 
        {
            "execution_count": 11, 
            "cell_type": "code", 
            "metadata": {}, 
            "outputs": [
                {
                    "output_type": "stream", 
                    "name": "stdout", 
                    "text": "root:x:0:\n\n"
                }
            ], 
            "source": "# Print the first line\nprint (result[0])"
        }, 
        {
            "source": "To concatenate into a single string:\n", 
            "cell_type": "markdown", 
            "metadata": {}
        }, 
        {
            "execution_count": null, 
            "cell_type": "code", 
            "metadata": {}, 
            "outputs": [], 
            "source": "single_string = ''.join(result)"
        }, 
        {
            "execution_count": null, 
            "cell_type": "code", 
            "metadata": {}, 
            "outputs": [], 
            "source": "#module import options\nmodule_path = os.path.abspath(os.getcwd())\nif module_path not in sys.path:       \n    sys.path.append(module_path)"
        }, 
        {
            "execution_count": null, 
            "cell_type": "code", 
            "metadata": {}, 
            "outputs": [], 
            "source": ""
        }
    ], 
    "metadata": {
        "kernelspec": {
            "display_name": "Python 3.5", 
            "name": "python3", 
            "language": "python"
        }, 
        "language_info": {
            "mimetype": "text/x-python", 
            "nbconvert_exporter": "python", 
            "version": "3.5.5", 
            "name": "python", 
            "file_extension": ".py", 
            "pygments_lexer": "ipython3", 
            "codemirror_mode": {
                "version": 3, 
                "name": "ipython"
            }
        }
    }, 
    "nbformat": 4
}